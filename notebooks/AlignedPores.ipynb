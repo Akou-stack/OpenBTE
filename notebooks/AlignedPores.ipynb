{
 "cells": [
  {
   "cell_type": "code",
   "execution_count": 4,
   "metadata": {},
   "outputs": [
    {
     "data": {
      "application/vnd.jupyter.widget-view+json": {
       "model_id": "0c7d08f4583b499fb78d749ca9edbb9d",
       "version_major": 2,
       "version_minor": 0
      },
      "text/plain": [
       "aW50ZXJhY3RpdmUoY2hpbGRyZW49KEZsb2F0U2xpZGVyKHZhbHVlPTAuMiwgY29udGludW91c191cGRhdGU9RmFsc2UsIGRlc2NyaXB0aW9uPXUnUG9yb3NpdHk6JywgbWF4PTAuMywgbWluPTDigKY=\n"
      ]
     },
     "metadata": {},
     "output_type": "display_data"
    },
    {
     "data": {
      "application/vnd.jupyter.widget-view+json": {
       "model_id": "3d164cc867174e16b23eb3408a629a3c",
       "version_major": 2,
       "version_minor": 0
      },
      "text/plain": [
       "aW50ZXJhY3RpdmUoY2hpbGRyZW49KEJvdW5kZWRGbG9hdFRleHQodmFsdWU9MTUwLjAsIGRlc2NyaXB0aW9uPXUnTWF0cml4IFtXL0svbV0nLCBsYXlvdXQ9TGF5b3V0KHdpZHRoPXUnMzAwcHjigKY=\n"
      ]
     },
     "metadata": {},
     "output_type": "display_data"
    },
    {
     "data": {
      "application/vnd.jupyter.widget-view+json": {
       "model_id": "ad4a0c104b50479c83769f4220dbcfd8",
       "version_major": 2,
       "version_minor": 0
      },
      "text/plain": [
       "VBox(children=(Button(description=u'Run', style=ButtonStyle()), Output()))"
      ]
     },
     "metadata": {},
     "output_type": "display_data"
    }
   ],
   "source": [
    "from openbte.geometry import *\n",
    "from openbte.solver import *\n",
    "from openbte.material import *\n",
    "from openbte.plot import *\n",
    "from __future__ import print_function\n",
    "from ipywidgets import interact, interactive, fixed, interact_manual\n",
    "import ipywidgets as widgets\n",
    "from IPython.display import display\n",
    "\n",
    "def create_geometry(porosity,shape,angle):\n",
    "    Geometry(type = 'porous/square_lattice',shape=shape,\\\n",
    "                                  lx = 10.0, ly = 10.0,\\\n",
    "                                  step=1.0,\\\n",
    "                                  angle=angle,\\\n",
    "                                  porosity=porosity,\\\n",
    "                                  inclusion = True,\n",
    "                                  mesh=True,plot=True);\n",
    "    \n",
    "    \n",
    "def create_material(kappa_matrix,kappa_inclusion):   \n",
    "    Material(region='Matrix',kappa = kappa_matrix,filename='material_a');\n",
    "    Material(region='Inclusion',kappa = kappa_inclusion,filename='material_b');\n",
    "\n",
    " \n",
    "def run():\n",
    "   \n",
    " Solver(max_bte_iter = 0,verbose=False);\n",
    " Plot(variable='map/fourier_flux',direction='magnitude',show=True,write=False,streamlines=False,repeat_x=1,repeat_y =1,plot_interfaces=True)\n",
    "    \n",
    "r=widgets.ToggleButton(\n",
    "    value=False,\n",
    "    description='Click me',\n",
    "    disabled=False,\n",
    "    button_style='', # 'success', 'info', 'warning', 'danger' or ''\n",
    "    tooltip='Description',\n",
    "    icon='check'\n",
    ") \n",
    "\n",
    "w = widgets.FloatSlider(\n",
    "    value=0.2,\n",
    "    min=0.01,\n",
    "    max=0.3,\n",
    "    step=0.025,\n",
    "    description='Porosity:',\n",
    "    disabled=False,\n",
    "    continuous_update=False,\n",
    "    orientation='horizontal',\n",
    "    readout=True,\n",
    "    readout_format='.3f')\n",
    "\n",
    "\n",
    "d = widgets.RadioButtons(\n",
    "    options=['circle', 'square', 'triangle'],\n",
    "    value='circle',\n",
    "    description='shape:',\n",
    "    disabled=False\n",
    ")\n",
    "\n",
    "\n",
    "a = widgets.FloatSlider(\n",
    "    value=0.0,\n",
    "    min=0.0,\n",
    "    max=360,\n",
    "    step=10,\n",
    "    description='Angle:',\n",
    "    disabled=False,\n",
    "    continuous_update=False,\n",
    "    orientation='horizontal',\n",
    "    readout=True,\n",
    "    readout_format='.0f')\n",
    "\n",
    "\n",
    "km = widgets.BoundedFloatText(\n",
    "    value=150.0,\n",
    "    min=1,\n",
    "    max=1000,\n",
    "    step=0.1,\n",
    "    description='Matrix [W/K/m]',\n",
    "    disabled=False,\n",
    "    layout = {'width': '300px'},\\\n",
    "    style = {'description_width': '150px'})\n",
    "\n",
    "ki = widgets.BoundedFloatText(\n",
    "    value=50.0,\n",
    "    min=0,\n",
    "    max=1000,\n",
    "    step=0.1,\n",
    "    description='Inclusion [W/K/m]',\n",
    "    disabled=False,\n",
    "    layout = {'width': '300px'},\\\n",
    "    style = {'description_width': '150px'})\n",
    "\n",
    "\n",
    "interact(create_geometry, porosity=w, shape=d, angle=a);\n",
    "interact(create_material, kappa_matrix=km,kappa_inclusion=ki);\n",
    "\n",
    "\n",
    "button = widgets.Button(description=\"Run\")\n",
    "#display(button)\n",
    "out = widgets.Output()\n",
    "def on_button_clicked(b):\n",
    "    button.description = 'Run'\n",
    "    with out:\n",
    "        run()\n",
    "\n",
    "button.on_click(on_button_clicked)\n",
    "widgets.VBox([button, out])\n",
    "\n"
   ]
  },
  {
   "cell_type": "code",
   "execution_count": null,
   "metadata": {},
   "outputs": [],
   "source": []
  },
  {
   "cell_type": "code",
   "execution_count": null,
   "metadata": {},
   "outputs": [],
   "source": []
  },
  {
   "cell_type": "code",
   "execution_count": null,
   "metadata": {},
   "outputs": [],
   "source": []
  }
 ],
 "metadata": {
  "kernelspec": {
   "display_name": "Python 2",
   "language": "python",
   "name": "python2"
  },
  "language_info": {
   "codemirror_mode": {
    "name": "ipython",
    "version": 2
   },
   "file_extension": ".py",
   "mimetype": "text/x-python",
   "name": "python",
   "nbconvert_exporter": "python",
   "pygments_lexer": "ipython2",
   "version": "2.7.15"
  }
 },
 "nbformat": 4,
 "nbformat_minor": 2
}
