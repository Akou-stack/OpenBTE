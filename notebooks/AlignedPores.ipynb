{
 "cells": [
  {
   "cell_type": "code",
   "execution_count": 2,
   "metadata": {},
   "outputs": [],
   "source": [
    "from openbte.geometry import *\n",
    "from openbte.solver import *\n",
    "from openbte.material import *\n",
    "from openbte.plot import *"
   ]
  },
  {
   "cell_type": "code",
   "execution_count": 3,
   "metadata": {},
   "outputs": [
    {
     "data": {
      "image/png": "[encoded data removed]",
      "text/plain": [
       "<Figure size 320x320 with 1 Axes>"
      ]
     },
     "metadata": {},
     "output_type": "display_data"
    }
   ],
   "source": [
    "geo = Geometry(type = 'porous/square_lattice',shape='square',\\\n",
    "                                  lx = 10.0, ly = 10.0,\\\n",
    "                                  step=1.0,\\\n",
    "                                  porosity=0.25,\\\n",
    "                                  inclusion = True,\n",
    "                                  mesh=True,plot=True);\n",
    "#HTML('<style>{}</style>'.format(CSS))\n",
    " "
   ]
  },
  {
   "cell_type": "code",
   "execution_count": 4,
   "metadata": {},
   "outputs": [],
   "source": [
    "Material(model='gray',n_theta = 16, n_phi = 48,region='Matrix',kappa = 150.0,filename='material_a');\n",
    "Material(model='gray',n_theta = 16, n_phi = 48,region='Inclusion',kappa = 50.0,filename='material_b');"
   ]
  },
  {
   "cell_type": "code",
   "execution_count": 5,
   "metadata": {},
   "outputs": [
    {
     "name": "stdout",
     "output_type": "stream",
     "text": [
      " \n",
      "  ___                   ____ _____ _____ \n",
      " / _ \\ _ __   ___ _ __ | __ )_   _| ____|\n",
      "| | | | '_ \\ / _ \\ '_ \\|  _ \\ | | |  _|  \n",
      "| |_| | |_) |  __/ | | | |_) || | | |___ \n",
      " \\___/| .__/ \\___|_| |_|____/ |_| |_____|\n",
      "      |_|                                \n",
      "\n",
      "Giuseppe Romano [romanog@mit.edu]\n",
      " \n",
      " \n",
      "Elements:          262\n",
      "Azimuthal angles:  16\n",
      "Polar angles:      48\n",
      "Mean-free-paths:   1\n",
      "Degree-of-freedom: 201216\n",
      "  \n",
      "Matrix           150.00 W/m/K\n",
      "Inclusion         50.00 W/m/K\n",
      "  \n",
      "Effective         38.45 W/m/K\n",
      "  \n"
     ]
    }
   ],
   "source": [
    "Solver(max_bte_iter = 0);"
   ]
  },
  {
   "cell_type": "code",
   "execution_count": null,
   "metadata": {},
   "outputs": [],
   "source": [
    "Plot(variable='map/fourier_flux',direction='magnitude',show=True,write=False,streamlines=True,repeat_x=3,repeat_y =3);\n"
   ]
  },
  {
   "cell_type": "code",
   "execution_count": null,
   "metadata": {},
   "outputs": [],
   "source": []
  }
 ],
 "metadata": {
  "kernelspec": {
   "display_name": "Python 2",
   "language": "python",
   "name": "python2"
  },
  "language_info": {
   "codemirror_mode": {
    "name": "ipython",
    "version": 2
   },
   "file_extension": ".py",
   "mimetype": "text/x-python",
   "name": "python",
   "nbconvert_exporter": "python",
   "pygments_lexer": "ipython2",
   "version": "2.7.15"
  }
 },
 "nbformat": 4,
 "nbformat_minor": 2
}
