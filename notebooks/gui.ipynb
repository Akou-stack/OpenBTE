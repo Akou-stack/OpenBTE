{
 "cells": [
  {
   "cell_type": "code",
   "execution_count": 1,
   "metadata": {},
   "outputs": [
    {
     "data": {
      "application/vnd.jupyter.widget-view+json": {
       "model_id": "12bf03df5ec142d4aef5dbcd70999824",
       "version_major": 2,
       "version_minor": 0
      },
      "text/plain": [
       "HBox(children=(VBox(children=(FloatSlider(value=0.2, continuous_update=False, description='Porosity:', max=0.3…"
      ]
     },
     "metadata": {},
     "output_type": "display_data"
    },
    {
     "data": {
      "application/vnd.jupyter.widget-view+json": {
       "model_id": "c481c1320c3343ee91ee9db9f2caeb16",
       "version_major": 2,
       "version_minor": 0
      },
      "text/plain": [
       "interactive(children=(Select(description='Variable', options=('Geometry', ' '), value='Geometry'), Output()), …"
      ]
     },
     "metadata": {},
     "output_type": "display_data"
    },
    {
     "data": {
      "application/vnd.jupyter.widget-view+json": {
       "model_id": "9b3edecb537f4d2e84fe1b184120a2da",
       "version_major": 2,
       "version_minor": 0
      },
      "text/plain": [
       "HBox(children=(Button(description='Fourier', style=ButtonStyle()), Button(description='BTE', style=ButtonStyle…"
      ]
     },
     "metadata": {},
     "output_type": "display_data"
    },
    {
     "name": "stdout",
     "output_type": "stream",
     "text": [
      " \n",
      "  ___                   ____ _____ _____ \n",
      " / _ \\ _ __   ___ _ __ | __ )_   _| ____|\n",
      "| | | | '_ \\ / _ \\ '_ \\|  _ \\ | | |  _|  \n",
      "| |_| | |_) |  __/ | | | |_) || | | |___ \n",
      " \\___/| .__/ \\___|_| |_|____/ |_| |_____|\n",
      "      |_|                                \n",
      "\n",
      "Giuseppe Romano [romanog@mit.edu]\n",
      " \n",
      " \n",
      "Elements:          298\n",
      "Azimuthal angles:  16\n",
      "Polar angles:      48\n",
      "Mean-free-paths:   1\n",
      "Degree-of-freedom: 228864\n",
      "  \n",
      "Matrix           100.00 W/m/K\n",
      "Inclusion        100.00 W/m/K\n",
      "  \n",
      "Thermal Conductivity:    99.70 W/m/K\n",
      "  \n",
      "\n",
      "\u001b[32mSolving BTE... started\u001b[0m\n",
      "\n",
      "    Iter    Thermal Conductivity [W/m/K]      Error       Zeroth - Fourier - BTE\n",
      "   ------------------------------------------------------------------------------------\n",
      "      0           9.9613E-01                1.0000E+00   0.00E+00  0.0E+00  1.0E+00\n",
      "      1           9.9651E-01                3.8109E-04   0.00E+00  0.0E+00  1.0E+00\n",
      "   ------------------------------------------------------------------------------------\n",
      "\n",
      "\u001b[32mSolving BTE... done\u001b[0m\n",
      "\n",
      " \n",
      "  ___                   ____ _____ _____ \n",
      " / _ \\ _ __   ___ _ __ | __ )_   _| ____|\n",
      "| | | | '_ \\ / _ \\ '_ \\|  _ \\ | | |  _|  \n",
      "| |_| | |_) |  __/ | | | |_) || | | |___ \n",
      " \\___/| .__/ \\___|_| |_|____/ |_| |_____|\n",
      "      |_|                                \n",
      "\n",
      "Giuseppe Romano [romanog@mit.edu]\n",
      " \n",
      " \n",
      "Elements:          298\n",
      "Azimuthal angles:  16\n",
      "Polar angles:      48\n",
      "Mean-free-paths:   1\n",
      "Degree-of-freedom: 228864\n",
      "  \n",
      "Matrix            80.00 W/m/K\n",
      "Inclusion        100.00 W/m/K\n",
      "  \n",
      "Thermal Conductivity:    83.38 W/m/K\n",
      "  \n",
      "\n",
      "\u001b[32mSolving BTE... started\u001b[0m\n",
      "\n",
      "    Iter    Thermal Conductivity [W/m/K]      Error       Zeroth - Fourier - BTE\n",
      "   ------------------------------------------------------------------------------------\n",
      "      0           4.6147E+01                1.0000E+00   0.00E+00  0.0E+00  1.0E+00\n",
      "      1           4.7866E+01                3.5919E-02   0.00E+00  0.0E+00  1.0E+00\n",
      "      2           4.8114E+01                5.1376E-03   0.00E+00  0.0E+00  1.0E+00\n",
      "   ------------------------------------------------------------------------------------\n",
      "\n",
      "\u001b[32mSolving BTE... done\u001b[0m\n",
      "\n"
     ]
    }
   ],
   "source": [
    "from openbte.gui import *"
   ]
  },
  {
   "cell_type": "code",
   "execution_count": null,
   "metadata": {},
   "outputs": [],
   "source": []
  }
 ],
 "metadata": {
  "kernelspec": {
   "display_name": "Python 3",
   "language": "python",
   "name": "python3"
  },
  "language_info": {
   "codemirror_mode": {
    "name": "ipython",
    "version": 3
   },
   "file_extension": ".py",
   "mimetype": "text/x-python",
   "name": "python",
   "nbconvert_exporter": "python",
   "pygments_lexer": "ipython3",
   "version": "3.7.0"
  }
 },
 "nbformat": 4,
 "nbformat_minor": 2
}
