{
  "nbformat": 4,
  "nbformat_minor": 0,
  "metadata": {
    "colab": {
      "name": "Copy of WorkingExamplepynb",
      "provenance": [],
      "collapsed_sections": [],
      "machine_shape": "hm",
      "include_colab_link": true
    },
    "kernelspec": {
      "name": "python3",
      "display_name": "Python 3"
    },
    "accelerator": "GPU"
  },
  "cells": [
    {
      "cell_type": "markdown",
      "metadata": {
        "id": "view-in-github",
        "colab_type": "text"
      },
      "source": [
        "<a href=\"https://colab.research.google.com/github/romanodev/OpenBTE/blob/master/Copy_of_WorkingExamplepynb.ipynb\" target=\"_parent\"><img src=\"https://colab.research.google.com/assets/colab-badge.svg\" alt=\"Open In Colab\"/></a>"
      ]
    },
    {
      "cell_type": "markdown",
      "metadata": {
        "id": "6aW58b_SOA-N",
        "colab_type": "text"
      },
      "source": [
        "# Example"
      ]
    },
    {
      "cell_type": "code",
      "metadata": {
        "id": "h3QWkVeKIsfo",
        "colab_type": "code",
        "colab": {}
      },
      "source": [
        "import plotly.io as pio"
        "pio.renderers.default = 'notebook' "
        "!rm -rf OpenBTE && git clone -q https://github.com/romanodev/OpenBTE.git && cd OpenBTE && python setup.py develop\n",
        "!apt-get -qq install -y libgmsh-dev"
      ],
      "execution_count": 0,
      "outputs": []
    },
    {
      "cell_type": "markdown",
      "metadata": {
        "id": "eW63joeWN90r",
        "colab_type": "text"
      },
      "source": [
        "#TEST"
      ]
    },
    {
      "cell_type": "code",
      "metadata": {
        "id": "H7qzQsBanWWY",
        "colab_type": "code",
        "colab": {
          "base_uri": "https://localhost:8080/",
          "height": 710
        },
        "outputId": "3bef4b31-e6da-4a19-fbb3-77446906d235"
      },
      "source": [
        "from openbte import Material,Geometry,Solver,Plot\n",
        "Material(model='unlisted',file_id = '1wJy8zWkmGnUFgXsp8st94G0Qo3Nqa0HC');\n",
        "base = [[ 3.01078268e-01, 2.21429016e-01],\n",
        "[ 4.46707106e-01, -3.60827374e-01],\n",
        "[-1.10472045e-01, 3.89017984e-01],\n",
        "[-3.83525265e-01, -7.68582568e-02],\n",
        "[-1.55493656e-01, -2.02056697e-01],\n",
        "[-1.31058618e-01, -2.22113975e-01],\n",
        "[ 3.88037974e-01, -1.46767846e-01],\n",
        "[ 4.50174513e-01, 3.37519639e-01],\n",
        "[ 4.26771368e-01, 4.01421211e-01],\n",
        "[-1.21785435e-01, -3.39898399e-01]]\n",
        "geo = Geometry(porosity=0.3,lx=100,ly=100,step=10,shape='square',base=base,lz=0,save=False);\n",
        "sol = Solver(geometry=geo);\n",
        "kappa = sol.state['kappa'][-1]\n",
        "Plot(model='maps',solver=sol.state,geometry=geo)\n",
        "#Plot(model='maps',geometry=geo);"
      ],
      "execution_count": 0,
      "outputs": [
        {
          "output_type": "stream",
          "text": [
            "Downloading 1wJy8zWkmGnUFgXsp8st94G0Qo3Nqa0HC into ./material.h5... \n",
            "32.0 KiB Done.\n",
            " \n",
            "\u001b[32m        ___                   ____ _____ _____ \u001b[0m\n",
            "\u001b[32m       / _ \\ _ __   ___ _ __ | __ )_   _| ____|\u001b[0m\n",
            "\u001b[32m      | | | | '_ \\ / _ \\ '_ \\|  _ \\ | | |  _|  \u001b[0m\n",
            "\u001b[32m      | |_| | |_) |  __/ | | | |_) || | | |___ \u001b[0m\n",
            "\u001b[32m       \\___/| .__/ \\___|_| |_|____/ |_| |_____|\u001b[0m\n",
            "\u001b[32m            |_|                                \u001b[0m\n",
            "\n",
            "                       GENERAL INFO\n",
            "\u001b[32m -----------------------------------------------------------\u001b[0m\n",
            "\u001b[32m  Contact:          \u001b[0mromanog@mit.edu                       \n",
            "\u001b[32m  Source code:      \u001b[0mhttps://github.com/romanodev/OpenBTE  \n",
            "\u001b[32m  Become a sponsor: \u001b[0mhttps://github.com/sponsors/romanodev \n",
            "\u001b[32m  Cloud:            \u001b[0mhttps://shorturl.at/cwDIP             \n",
            "\u001b[32m  Mailing List:     \u001b[0mhttps://shorturl.at/admB0             \n",
            "\u001b[32m -----------------------------------------------------------\u001b[0m\n",
            "\n",
            "                        SYSTEM INFO                 \n",
            "\u001b[32m -----------------------------------------------------------\u001b[0m\n",
            "\u001b[32m  Space Discretization:                    \u001b[0m492\n",
            "\u001b[32m  Momentum Discretization:                 \u001b[0m2400\n",
            "\u001b[32m  Bulk Thermal Conductivity [W/m/K]:       \u001b[0m143.1085\n",
            "\u001b[32m  Fourier Thermal Conductivity [W/m/K]:    \u001b[0m72.43\n",
            "\u001b[32m -----------------------------------------------------------\u001b[0m\n",
            "\n",
            "      Iter    Thermal Conductivity [W/m/K]      Error \n",
            "\u001b[32m -----------------------------------------------------------\u001b[0m\n",
            "       1               1.0999E+01             5.5852E+00\n",
            "       2               8.8445E+00             2.4359E-01\n",
            "       3               9.4627E+00             6.5331E-02\n",
            "       4               9.1253E+00             3.6976E-02\n",
            "       5               9.2383E+00             1.2236E-02\n",
            "       6               9.1746E+00             6.9454E-03\n",
            "\u001b[32m -----------------------------------------------------------\u001b[0m\n",
            " \n",
            "\u001b[32m                 OpenBTE ended successfully\u001b[0m\n",
            " \n"
          ],
          "name": "stdout"
        }
      ]
    }
  ]
}
